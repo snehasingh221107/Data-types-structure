{
  "nbformat": 4,
  "nbformat_minor": 0,
  "metadata": {
    "colab": {
      "provenance": []
    },
    "kernelspec": {
      "name": "python3",
      "display_name": "Python 3"
    },
    "language_info": {
      "name": "python"
    }
  },
  "cells": [
    {
      "cell_type": "markdown",
      "source": [
        "# **Data Types and Structures Questions**"
      ],
      "metadata": {
        "id": "4JUTJGU1XYfF"
      }
    },
    {
      "cell_type": "markdown",
      "source": [
        "Q1. What are data structures, and why are they important ?\n",
        " - A data structure is a method for organizing, storing, and managing data in a computer so it can be accessed and modified efficiently.\n",
        "\n",
        " They are important because:-\n",
        "*   Performance & Efficiency\n",
        "*   Make coding smarter\n",
        "\n",
        "Q2. Explain the difference between mutable and immutable data types with examples ?\n",
        " - Mutable Data : Mutable data can be changed in place—their contents or can be modified after creation.Examples (Lists,Set and Dictionaries)\n",
        " - Immutable Data : Immutable data cannot be changed or modified once its created.Examples (Tuples,Str and Frozensets)\n",
        "\n",
        "Q3. What are the main differences between lists and tuples in Python ?\n",
        " - The main differences between lists and tuples in python is that Lists are mutable whereas Tuples are immutable.\n",
        "\n",
        "Q4. Describe how dictionaries store data ?\n",
        " - A Python dict is an associative array or hash table that maps immutable keys (like strings, numbers, or tuples) to arbitrary values—stored as key: value pairs.\n",
        "\n",
        "Q5. Why might you use a set instead of a list in Python ?\n",
        " - I like to use set instead of list in python because set do not contains any duplicate elements or data in it whereas list contains duplicate.\n",
        "\n",
        "Q6. What is a string in Python, and how is it different from a list ?\n",
        " - A string in Python is a sequence of characters enclosed in quotes, like \"hello\" or 'Python'. It's immutable, which means you cannot change any character once the string is created.\n",
        " - A list is a sequence of items enclosed in square brackets, like [1, \"hello\", 3.14]. Lists can contain any data type, and they are mutable, meaning you can change, add, or remove elements after creation.\n",
        "\n",
        "Q7. How do tuples ensure data integrity in Python ?\n",
        " - Once a tuple is created, its contents cannot change—no adding, no modifying, no deleting elements. Attempting to do so raises a TypeError. That makes tuples reliable and unchanging containers.\n",
        "\n",
        "Q8. What is a hash table, and how does it relate to dictionaries in Python ?\n",
        " - A hash table is a powerful data structure used to store key → value pairs in a way that enables extremely fast insertion, lookup, and deletion.\n",
        "\n",
        "Q9. Can lists contain different data types in Python ?\n",
        " - Yes, Python lists can contain different data types.\n",
        "\n",
        "Q10. Explain why strings are immutable in Python ?\n",
        " - Strings are immutable in python because we can not do changes or modified it after creating because it is a immutable and its hashable.\n",
        "\n",
        "Q11. What advantages do dictionaries offer over lists for certain tasks ?\n",
        " - The advantages of ditionaries over lists are :-\n",
        "*   Unique Keys & Data Integrity\n",
        "*   Meaningful Key-Based Access\n",
        "*   Flexible, Mutable Mapping\n",
        "\n",
        "Q12. Describe a scenario where using a tuple would be preferable over a list ?\n",
        " - So imaging we are entering the data of employees where we have have to enter the employee ID at that time we can use tuple over list because in future employee id will be fix and can't be changed.\n",
        "\n",
        "Q13. How do sets handle duplicate values in Python ?\n",
        " - A set is an unordered collection of unique elements. If you try to add the same item more than once, Python simply ignores the duplicate—it won't be added again.\n",
        "\n",
        "Q14. How does the “in” keyword work differently for lists and dictionaries ?\n",
        " - Lists - \"in\" Scans each element one by one until it finds a match or reaches the end.\n",
        " - Distionaries - \"in\" Uses the dictionary’s hash table to perform a quick lookup—usually in O(1) time.\n",
        "\n",
        "Q15. Can you modify the elements of a tuple? Explain why or why not ?\n",
        " - No we can't modify the elements of tuple because tuple is immutable if we try to do modify than it will throug an error.\n",
        "\n",
        "Q16. What is a nested dictionary, and give an example of its use case ?\n",
        " - A nested dictionary in Python is simply a dictionary where one or more of its values are also dictionaries. This structure lets you organize hierarchical or grouped data in a clear, intuitive way.\n",
        "\n",
        " Imagine you're building an employee management system where each department has multiple employees, and each employee has details like name, role, and salary. A nested dictionary is ideal for this scenario.\n",
        "\n",
        "Q17. Describe the time complexity of accessing elements in a dictionary.\n",
        " - In Python, dictionaries are implemented using hash tables, which provide efficient key-value mapping. The time complexity of accessing elements in a dictionary is generally O(1), meaning it takes constant time regardless of the size of the dictionary.\n",
        "\n",
        "Q18. In what situations are lists preferred over dictionaries ?\n",
        " - In Python, lists are preferred over dictionaries in scenarios where:\n",
        "*  Order Matters\n",
        "*  Index-Based Access\n",
        "*  Allowing Duplicates\n",
        "\n",
        "Q19. Why are dictionaries considered unordered, and how does that affect data  retrieval ?\n",
        " - In Python, dictionaries are considered unordered collections because,they did not guarantee the order of elements. This lack of order was due to the underlying implementation of dictionaries, which used hash tables optimized for fast lookups, rather than maintaining the sequence of insertion.\n",
        " - The unordered nature of dictionaries in earlier versions meant that you couldn't rely on the order of items when iterating over them. This could lead to unpredictable behavior in your code. With the introduction of ordered dictionaries in Python 3.7, you can now expect a consistent order when accessing items. However, it's important to note that dictionaries are still primarily designed for fast lookups based on keys, and their main advantage lies in this efficiency rather than maintaining order.\n",
        "\n",
        "Q20. Explain the difference between a list and a dictionary in terms of data retrieval.\n",
        " - Here a simple and focused explanation of how data retrieval differs between lists and dictionaries in Python:\n",
        "\n",
        " - Lists\n",
        "*  x in some_list scans every element one by one until it finds a match or reaches the end.\n",
        "*  Time Complexity: O(n) — runtime grows linearly with the list size.\n",
        "So checking for presence in a large list can be slow.\n",
        " - Dictionaries\n",
        "*  key in my_dict checks whether key exists in the dictionary keys.\n",
        "*  Python uses a hash function to convert the key into a memory address, enabling direct access in constant time, independent of data size — O(1) on average."
      ],
      "metadata": {
        "id": "rxZf9iD0Xevk"
      }
    },
    {
      "cell_type": "code",
      "source": [
        "# Q1.Write a code to create a string with your name and print it.\n",
        "\n",
        "Name = \"Sneha Singh\"\n",
        "print(Name)"
      ],
      "metadata": {
        "colab": {
          "base_uri": "https://localhost:8080/"
        },
        "id": "mgvyHW21XqSk",
        "outputId": "13603f03-34fd-4013-b065-5602ef605740"
      },
      "execution_count": 2,
      "outputs": [
        {
          "output_type": "stream",
          "name": "stdout",
          "text": [
            "Sneha Singh\n"
          ]
        }
      ]
    },
    {
      "cell_type": "code",
      "source": [
        "# Q2.Write a code to find the length of the string \"Hello World\".\n",
        "\n",
        "A = \"Hello World\"\n",
        "len(A)"
      ],
      "metadata": {
        "colab": {
          "base_uri": "https://localhost:8080/"
        },
        "id": "lP2ZOYC4X43N",
        "outputId": "6d52febc-93d8-42fa-c324-8a3ca050272b"
      },
      "execution_count": 4,
      "outputs": [
        {
          "output_type": "execute_result",
          "data": {
            "text/plain": [
              "11"
            ]
          },
          "metadata": {},
          "execution_count": 4
        }
      ]
    },
    {
      "cell_type": "code",
      "source": [
        "# Q3. Write a code to slice the first 3 characters from the string \"Python Programming\".\n",
        "\n",
        "A = \"Python Programming\"\n",
        "first_3 = A[:3]\n",
        "print(first_3)"
      ],
      "metadata": {
        "colab": {
          "base_uri": "https://localhost:8080/"
        },
        "id": "SdhKkY7NYCQ8",
        "outputId": "229a373d-c17e-4d9e-db1f-f28f6e17c955"
      },
      "execution_count": 6,
      "outputs": [
        {
          "output_type": "stream",
          "name": "stdout",
          "text": [
            "Pyt\n"
          ]
        }
      ]
    },
    {
      "cell_type": "code",
      "source": [
        "# Q4.Write a code to convert the string \"hello\" to uppercase.\n",
        "\n",
        "A = \"hello\"\n",
        "A.upper()"
      ],
      "metadata": {
        "colab": {
          "base_uri": "https://localhost:8080/",
          "height": 35
        },
        "id": "BeUuYIzbYM2M",
        "outputId": "099bb585-d14d-4bcf-dddd-1738af86c528"
      },
      "execution_count": 7,
      "outputs": [
        {
          "output_type": "execute_result",
          "data": {
            "text/plain": [
              "'HELLO'"
            ],
            "application/vnd.google.colaboratory.intrinsic+json": {
              "type": "string"
            }
          },
          "metadata": {},
          "execution_count": 7
        }
      ]
    },
    {
      "cell_type": "code",
      "source": [
        "# Q5.Write a code to replace the word \"apple\" with \"orange\" in the string \"I like apple\".\n",
        "\n",
        "A = \" I like apple\"\n",
        "A.replace(\"apple\",\"orange\")"
      ],
      "metadata": {
        "colab": {
          "base_uri": "https://localhost:8080/",
          "height": 35
        },
        "id": "fswb1nMXYb00",
        "outputId": "faae4ec6-5aa4-4bc0-cd42-afa7cbe3f7bd"
      },
      "execution_count": 8,
      "outputs": [
        {
          "output_type": "execute_result",
          "data": {
            "text/plain": [
              "' I like orange'"
            ],
            "application/vnd.google.colaboratory.intrinsic+json": {
              "type": "string"
            }
          },
          "metadata": {},
          "execution_count": 8
        }
      ]
    },
    {
      "cell_type": "code",
      "source": [
        "# Q6.Write a code to create a list with numbers 1 to 5 and print it.\n",
        "\n",
        "Numbers = list(range(1,6))\n",
        "print(Numbers)"
      ],
      "metadata": {
        "colab": {
          "base_uri": "https://localhost:8080/"
        },
        "id": "pOWKZyZGYhiE",
        "outputId": "6f9b039a-b694-43eb-bf32-a4fafcebca50"
      },
      "execution_count": 9,
      "outputs": [
        {
          "output_type": "stream",
          "name": "stdout",
          "text": [
            "[1, 2, 3, 4, 5]\n"
          ]
        }
      ]
    },
    {
      "cell_type": "code",
      "source": [
        "# Q7.Write a code to append the number 10 to the list [1, 2, 3, 4].\n",
        "\n",
        "A = [1, 2, 3, 4]\n",
        "A.append(10)\n",
        "print(A)"
      ],
      "metadata": {
        "colab": {
          "base_uri": "https://localhost:8080/"
        },
        "id": "6HOJkiwrYn58",
        "outputId": "3a4bd111-87f5-4436-b5a0-78819f3a7dda"
      },
      "execution_count": 10,
      "outputs": [
        {
          "output_type": "stream",
          "name": "stdout",
          "text": [
            "[1, 2, 3, 4, 10]\n"
          ]
        }
      ]
    },
    {
      "cell_type": "code",
      "source": [
        "# Q8.Write a code to remove the number 3 from the list [1, 2, 3, 4, 5].\n",
        "\n",
        "A = [1, 2, 3, 4, 5]\n",
        "A.remove(3)\n",
        "print(A)"
      ],
      "metadata": {
        "colab": {
          "base_uri": "https://localhost:8080/"
        },
        "id": "uTLqEVhlYyOs",
        "outputId": "8d8b22cf-9aea-4e91-d62c-c871993c9f1d"
      },
      "execution_count": 11,
      "outputs": [
        {
          "output_type": "stream",
          "name": "stdout",
          "text": [
            "[1, 2, 4, 5]\n"
          ]
        }
      ]
    },
    {
      "cell_type": "code",
      "source": [
        "# Q9.Write a code to access the second element in the list ['a', 'b', 'c', 'd'].\n",
        "\n",
        "A = ['a', 'b', 'c', 'd']\n",
        "B = A[1]\n",
        "print(B)\n"
      ],
      "metadata": {
        "colab": {
          "base_uri": "https://localhost:8080/"
        },
        "id": "H6M7ENJOY-Es",
        "outputId": "95993330-c912-4e61-f3b6-f45d0cdfd036"
      },
      "execution_count": 12,
      "outputs": [
        {
          "output_type": "stream",
          "name": "stdout",
          "text": [
            "b\n"
          ]
        }
      ]
    },
    {
      "cell_type": "code",
      "source": [
        "# Q10.Write a code to reverse the list [10, 20, 30, 40, 50].\n",
        "\n",
        "A = [20, 40, 60, 80, 100]\n",
        "B = A[::-1]\n",
        "print(B)"
      ],
      "metadata": {
        "colab": {
          "base_uri": "https://localhost:8080/"
        },
        "id": "9ortwh27ZEfc",
        "outputId": "9c7e4a25-b91c-40af-9d8c-976f2c4834f2"
      },
      "execution_count": 13,
      "outputs": [
        {
          "output_type": "stream",
          "name": "stdout",
          "text": [
            "[100, 80, 60, 40, 20]\n"
          ]
        }
      ]
    },
    {
      "cell_type": "code",
      "source": [
        "# Q11.Write a code to create a tuple with the elements 100, 200, 300 and print it.\n",
        "\n",
        "A = (100, 200, 300)\n",
        "print(A)"
      ],
      "metadata": {
        "colab": {
          "base_uri": "https://localhost:8080/"
        },
        "id": "eSY189zBZUbU",
        "outputId": "85aae787-4ead-48d2-fc44-a875c883f449"
      },
      "execution_count": 15,
      "outputs": [
        {
          "output_type": "stream",
          "name": "stdout",
          "text": [
            "(100, 200, 300)\n"
          ]
        }
      ]
    },
    {
      "cell_type": "code",
      "source": [
        "# Q12.Write a code to access the second-to-last element of the tuple ('red', 'green', 'blue', 'yellow').\n",
        "\n",
        "A = ('red', 'green', 'blue', 'yellow')\n",
        "B = A[-2:]\n",
        "print(B)"
      ],
      "metadata": {
        "colab": {
          "base_uri": "https://localhost:8080/"
        },
        "id": "T2GA0BVeZjhk",
        "outputId": "e97b54a7-b9ff-47b0-e959-21fff51b889a"
      },
      "execution_count": 16,
      "outputs": [
        {
          "output_type": "stream",
          "name": "stdout",
          "text": [
            "('blue', 'yellow')\n"
          ]
        }
      ]
    },
    {
      "cell_type": "code",
      "source": [
        "# Q13.Write a code to find the minimum number in the tuple (10, 20, 5, 15).\n",
        "\n",
        "A = (10, 20, 5, 15)\n",
        "min(A)"
      ],
      "metadata": {
        "colab": {
          "base_uri": "https://localhost:8080/"
        },
        "id": "1SIjjk4iZhPs",
        "outputId": "bccb7742-131e-4271-bf75-6e6d06cbb06a"
      },
      "execution_count": 17,
      "outputs": [
        {
          "output_type": "execute_result",
          "data": {
            "text/plain": [
              "5"
            ]
          },
          "metadata": {},
          "execution_count": 17
        }
      ]
    },
    {
      "cell_type": "code",
      "source": [
        "# Q14.Write a code to find the index of the element \"cat\" in the tuple ('dog', 'cat', 'rabbit').\n",
        "\n",
        "A = ('dog', 'cat', 'rabbit')\n",
        "B = A.index('cat')\n",
        "print(B)"
      ],
      "metadata": {
        "colab": {
          "base_uri": "https://localhost:8080/"
        },
        "id": "z7zL8JU2Z1x8",
        "outputId": "567e3606-9710-4710-be8d-1ecdd08139d8"
      },
      "execution_count": 18,
      "outputs": [
        {
          "output_type": "stream",
          "name": "stdout",
          "text": [
            "1\n"
          ]
        }
      ]
    },
    {
      "cell_type": "code",
      "source": [
        "# Q15. Write a code to create a tuple containing three different fruits and check if \"kiwi\" is in it.\n",
        "\n",
        "Fruits = (\"apple\",\"kiwi\",\"pineaplle\")\n",
        "if \"kiwi\" in Fruits:\n",
        "  print(\"Yes,kiwi is in the fruits tuple\")\n",
        "else:\n",
        "  print(\"No,kiwi is in the fruits tuple\")"
      ],
      "metadata": {
        "colab": {
          "base_uri": "https://localhost:8080/"
        },
        "id": "rR8KjFUaaC_k",
        "outputId": "63643c6e-06b5-475a-be1d-fb936ea65e31"
      },
      "execution_count": 19,
      "outputs": [
        {
          "output_type": "stream",
          "name": "stdout",
          "text": [
            "Yes,kiwi is in the fruits tuple\n"
          ]
        }
      ]
    },
    {
      "cell_type": "code",
      "source": [
        "# Q16. Write a code to create a set with the elements 'a', 'b', 'c' and print it.\n",
        "\n",
        "My_set = {'1', '2', '3'}\n",
        "print(My_set)"
      ],
      "metadata": {
        "colab": {
          "base_uri": "https://localhost:8080/"
        },
        "id": "VUdwdOsPaIgl",
        "outputId": "a94451ca-3e0e-4c9d-d8c5-31ba509015bf"
      },
      "execution_count": 20,
      "outputs": [
        {
          "output_type": "stream",
          "name": "stdout",
          "text": [
            "{'3', '1', '2'}\n"
          ]
        }
      ]
    },
    {
      "cell_type": "code",
      "source": [
        "# Q17. Write a code to clear all elements from the set {1, 2, 3, 4, 5}.\n",
        "\n",
        "My_set = {1, 2, 3, 4, 5}\n",
        "My_set.clear()\n",
        "print(My_set)"
      ],
      "metadata": {
        "colab": {
          "base_uri": "https://localhost:8080/"
        },
        "id": "XtuVnLpVaOoU",
        "outputId": "dfd16ad5-2cb8-478e-c1b3-59856dcd6b80"
      },
      "execution_count": 21,
      "outputs": [
        {
          "output_type": "stream",
          "name": "stdout",
          "text": [
            "set()\n"
          ]
        }
      ]
    },
    {
      "cell_type": "code",
      "source": [
        "# Q18.Write a code to remove the element 4 from the set {1, 2, 3, 4}.\n",
        "\n",
        "My_set = {1, 2, 3, 4}\n",
        "My_set.remove(4)\n",
        "print(My_set)"
      ],
      "metadata": {
        "colab": {
          "base_uri": "https://localhost:8080/"
        },
        "id": "4J053pYwbwWH",
        "outputId": "0cb7f597-56e7-4e4c-f8b3-d240b4744705"
      },
      "execution_count": 22,
      "outputs": [
        {
          "output_type": "stream",
          "name": "stdout",
          "text": [
            "{1, 2, 3}\n"
          ]
        }
      ]
    },
    {
      "cell_type": "code",
      "source": [
        "# Q19.Write a code to find the union of two sets {1, 2, 3} and {3, 4, 5}.\n",
        "\n",
        "Set1 = {1, 2, 3}\n",
        "Set2 = {3, 4, 5}\n",
        "union_set = Set1.union(Set2)\n",
        "print(union_set)"
      ],
      "metadata": {
        "colab": {
          "base_uri": "https://localhost:8080/"
        },
        "id": "d02TIkwPb2S3",
        "outputId": "f0c18e3d-33fd-4fd8-aad5-08d62a3bf1ab"
      },
      "execution_count": 23,
      "outputs": [
        {
          "output_type": "stream",
          "name": "stdout",
          "text": [
            "{1, 2, 3, 4, 5}\n"
          ]
        }
      ]
    },
    {
      "cell_type": "code",
      "source": [
        "# Q20.Write a code to find the intersection of two sets {1, 2, 3} and {2, 3, 4}.\n",
        "\n",
        "Set1 = {1, 2, 3}\n",
        "Set2 = {2, 3, 4}\n",
        "inter_set = Set1.intersection(Set2)\n",
        "print(inter_set)"
      ],
      "metadata": {
        "colab": {
          "base_uri": "https://localhost:8080/"
        },
        "id": "OkR0Qccib53G",
        "outputId": "15c4ca93-90ab-4ca7-e9d7-9ef2b104346c"
      },
      "execution_count": 24,
      "outputs": [
        {
          "output_type": "stream",
          "name": "stdout",
          "text": [
            "{2, 3}\n"
          ]
        }
      ]
    },
    {
      "cell_type": "code",
      "source": [
        "# Q21.Write a code to create a dictionary with the keys \"name\", \"age\", and \"city\", and print it.\n",
        "\n",
        "My_Dict = {\"name\":\"Sneha\",\"age\":\"22\",\"city\":\"Kolkata\"}\n",
        "print(My_Dict)"
      ],
      "metadata": {
        "colab": {
          "base_uri": "https://localhost:8080/"
        },
        "id": "orCtTqbbb9CH",
        "outputId": "63632286-d340-40fe-a643-901b74c39662"
      },
      "execution_count": 25,
      "outputs": [
        {
          "output_type": "stream",
          "name": "stdout",
          "text": [
            "{'name': 'Sneha', 'age': '22', 'city': 'Kolkata'}\n"
          ]
        }
      ]
    },
    {
      "cell_type": "code",
      "source": [
        "# Q22.Write a code to add a new key-value pair \"country\": \"USA\" to the dictionary {'name': 'John', 'age': 25}.\n",
        "\n",
        "My_dict = {'name': 'John', 'age': 25}\n",
        "My_dict.update({'Country': 'USA'})\n",
        "print(My_dict)"
      ],
      "metadata": {
        "colab": {
          "base_uri": "https://localhost:8080/"
        },
        "id": "-l2zzPQCcIMP",
        "outputId": "fa59a5ad-72aa-4592-a813-49710964ba03"
      },
      "execution_count": 26,
      "outputs": [
        {
          "output_type": "stream",
          "name": "stdout",
          "text": [
            "{'name': 'John', 'age': 25, 'Country': 'USA'}\n"
          ]
        }
      ]
    },
    {
      "cell_type": "code",
      "source": [
        "# Q23.Write a code to access the value associated with the key \"name\" in the dictionary {'name': 'Alice', 'age': 30}.\n",
        "\n",
        "My_dict = {'name': 'Alice', 'age': 30}\n",
        "value = My_dict['name']\n",
        "print(value)"
      ],
      "metadata": {
        "colab": {
          "base_uri": "https://localhost:8080/"
        },
        "id": "GSKSsxjXcLMn",
        "outputId": "07f42bca-dbaa-4ac4-c1c6-565e3e65935f"
      },
      "execution_count": 27,
      "outputs": [
        {
          "output_type": "stream",
          "name": "stdout",
          "text": [
            "Alice\n"
          ]
        }
      ]
    },
    {
      "cell_type": "code",
      "source": [
        "# Q24.Write a code to remove the key \"age\" from the dictionary {'name': 'Bob', 'age': 22, 'city': 'New York'}.\n",
        "\n",
        "My_dict = {'name': 'Bob', 'age': 22, 'city': 'New York'}\n",
        "del My_dict['age']\n",
        "print(My_dict)"
      ],
      "metadata": {
        "colab": {
          "base_uri": "https://localhost:8080/"
        },
        "id": "FfZDN_wdcO6f",
        "outputId": "f2bac3bf-be30-4fbf-ce06-260780f4b317"
      },
      "execution_count": 28,
      "outputs": [
        {
          "output_type": "stream",
          "name": "stdout",
          "text": [
            "{'name': 'Bob', 'city': 'New York'}\n"
          ]
        }
      ]
    },
    {
      "cell_type": "code",
      "source": [
        "# Q25.Write a code to check if the key \"city\" exists in the dictionary {'name': 'Alice', 'city': 'Paris'}.\n",
        "\n",
        "My_dict = {'name': 'Alice', 'city': 'Paris'}\n",
        "if 'city' in My_dict:\n",
        "  print(\"Yes its exists in dictionary\")\n",
        "else:\n",
        "  print(\"No its not exits in dictionary\")"
      ],
      "metadata": {
        "colab": {
          "base_uri": "https://localhost:8080/"
        },
        "id": "eco6N7CEcR0n",
        "outputId": "9e883fe5-35b9-40e8-90ff-03c04a7d1572"
      },
      "execution_count": 29,
      "outputs": [
        {
          "output_type": "stream",
          "name": "stdout",
          "text": [
            "Yes its exists in dictionary\n"
          ]
        }
      ]
    },
    {
      "cell_type": "code",
      "source": [
        "# Q26.Write a code to create a list, a tuple, and a dictionary, and print them all.\n",
        "\n",
        "my_list = [\"Apple\", 20, \"Banana\", \"Baigan\"] # Create a list\n",
        "print(\"List:\", my_list)\n",
        "print() # using this for one line gap\n",
        "my_tuple = (\"apple\", \"banana\", \"cherry\")   # Create a tuple\n",
        "print(\"Tuple:\", my_tuple)\n",
        "print()\n",
        "my_dict = {\"name\": \"Raja\", \"age\": 23,\"languages\": \"Python\"} # Create a dictionary\n",
        "print(\"Dictionary:\", my_dict)"
      ],
      "metadata": {
        "colab": {
          "base_uri": "https://localhost:8080/"
        },
        "id": "XAP9vZm6cUgH",
        "outputId": "1fa9508b-5d28-4cae-d6bb-ada2cf64d956"
      },
      "execution_count": 30,
      "outputs": [
        {
          "output_type": "stream",
          "name": "stdout",
          "text": [
            "List: ['Apple', 20, 'Banana', 'Baigan']\n",
            "\n",
            "Tuple: ('apple', 'banana', 'cherry')\n",
            "\n",
            "Dictionary: {'name': 'Raja', 'age': 23, 'languages': 'Python'}\n"
          ]
        }
      ]
    },
    {
      "cell_type": "code",
      "source": [
        "'''\n",
        "# Q27.Write a code to create a list of 5 random numbers between 1 and 100, sort it in ascending order, and print the\n",
        "    result.(replaced).\n",
        "'''\n",
        "\n",
        "import random\n",
        "# Step 1: Generate a list of 5 random numbers (1 to 100)\n",
        "numbers = random.sample(range(1, 101), 5)\n",
        "print(\"Unsorted:\", numbers)\n",
        "\n",
        "# Step 2: Sort the list in ascending order\n",
        "numbers.sort()\n",
        "print(\"Sorted:\", numbers)"
      ],
      "metadata": {
        "colab": {
          "base_uri": "https://localhost:8080/"
        },
        "id": "Pv4HdiEOcX03",
        "outputId": "14fb8902-f20d-4ff1-ddae-73846d24bd6e"
      },
      "execution_count": 31,
      "outputs": [
        {
          "output_type": "stream",
          "name": "stdout",
          "text": [
            "Unsorted: [47, 32, 94, 87, 75]\n",
            "Sorted: [32, 47, 75, 87, 94]\n"
          ]
        }
      ]
    },
    {
      "cell_type": "code",
      "source": [
        "# Q28.Write a code to create a list with strings and print the element at the third index.\n",
        "\n",
        "fruits = [\"apple\", \"banana\", \"Litchi\", \"Guava\", \"Pineapple\"]   # Create a list of strings\n",
        "print(\"Third index:\" ,fruits[3])  #  Access the element at the third index (fourth element)\n"
      ],
      "metadata": {
        "colab": {
          "base_uri": "https://localhost:8080/"
        },
        "id": "YTDRkc9mcbR_",
        "outputId": "06486368-e83a-44ae-eb4f-04b188d172eb"
      },
      "execution_count": 33,
      "outputs": [
        {
          "output_type": "stream",
          "name": "stdout",
          "text": [
            "Third index: Guava\n"
          ]
        }
      ]
    },
    {
      "cell_type": "code",
      "source": [
        "# Q29.Write a code to combine two dictionaries into one and print the result.\n",
        "\n",
        "d1 = {'a': 10, 'b': 20}\n",
        "d2 = {'c': 30, 'd': 40}\n",
        "\n",
        "merged = d1 | d2 # using union for merging both the dictionaries\n",
        "print(merged)"
      ],
      "metadata": {
        "colab": {
          "base_uri": "https://localhost:8080/"
        },
        "id": "GArLg2B3ckdP",
        "outputId": "f43675f6-0255-48e6-b1b6-397080617d6d"
      },
      "execution_count": 34,
      "outputs": [
        {
          "output_type": "stream",
          "name": "stdout",
          "text": [
            "{'a': 10, 'b': 20, 'c': 30, 'd': 40}\n"
          ]
        }
      ]
    },
    {
      "cell_type": "code",
      "source": [
        "# Q30. Write a code to convert a list of strings into a set.\n",
        "\n",
        "My_list = [\"apple\", \"banana\", \"apple\", \"cherry\"]\n",
        "My_set = set(my_list)\n",
        "print(My_set)"
      ],
      "metadata": {
        "colab": {
          "base_uri": "https://localhost:8080/"
        },
        "id": "NMXaf1gDcenn",
        "outputId": "21dd31ee-fc4e-4640-c749-081e21af4b1f"
      },
      "execution_count": 35,
      "outputs": [
        {
          "output_type": "stream",
          "name": "stdout",
          "text": [
            "{'Apple', 'Baigan', 20, 'Banana'}\n"
          ]
        }
      ]
    }
  ]
}